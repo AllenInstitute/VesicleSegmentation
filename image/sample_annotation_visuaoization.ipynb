{
 "cells": [
  {
   "cell_type": "markdown",
   "id": "fecc5db4-5d42-4bda-a098-07d696f97847",
   "metadata": {},
   "source": [
    "### Visualize data and annotated masks (Using Napari)"
   ]
  },
  {
   "cell_type": "code",
   "execution_count": 10,
   "id": "8392b5c4-ef82-49b2-a5e6-db8f6fa4e943",
   "metadata": {},
   "outputs": [
    {
     "ename": "TypeError",
     "evalue": "'list' object is not callable",
     "output_type": "error",
     "traceback": [
      "\u001b[0;31m---------------------------------------------------------------------------\u001b[0m",
      "\u001b[0;31mTypeError\u001b[0m                                 Traceback (most recent call last)",
      "\u001b[0;32m/tmp/ipykernel_30279/1764089054.py\u001b[0m in \u001b[0;36m<module>\u001b[0;34m\u001b[0m\n\u001b[1;32m      6\u001b[0m \u001b[0;31m# Paths to the image and and masks\u001b[0m\u001b[0;34m\u001b[0m\u001b[0;34m\u001b[0m\u001b[0;34m\u001b[0m\u001b[0m\n\u001b[1;32m      7\u001b[0m \u001b[0mroot\u001b[0m \u001b[0;34m=\u001b[0m \u001b[0mos\u001b[0m\u001b[0;34m.\u001b[0m\u001b[0mpath\u001b[0m\u001b[0;34m.\u001b[0m\u001b[0mabspath\u001b[0m\u001b[0;34m(\u001b[0m\u001b[0;34m\"\"\u001b[0m\u001b[0;34m)\u001b[0m\u001b[0;34m\u001b[0m\u001b[0;34m\u001b[0m\u001b[0m\n\u001b[0;32m----> 8\u001b[0;31m \u001b[0mimg_path\u001b[0m \u001b[0;34m=\u001b[0m \u001b[0msys\u001b[0m\u001b[0;34m.\u001b[0m\u001b[0mpath\u001b[0m\u001b[0;34m(\u001b[0m\u001b[0;34m'../data/threeD_train/250_051/images/250_051.png'\u001b[0m\u001b[0;34m)\u001b[0m\u001b[0;34m\u001b[0m\u001b[0;34m\u001b[0m\u001b[0m\n\u001b[0m\u001b[1;32m      9\u001b[0m \u001b[0mmasks_path\u001b[0m \u001b[0;34m=\u001b[0m \u001b[0msys\u001b[0m\u001b[0;34m.\u001b[0m\u001b[0mpath\u001b[0m\u001b[0;34m(\u001b[0m\u001b[0;34m'../data/threeD_train/250_051/masks/'\u001b[0m\u001b[0;34m)\u001b[0m\u001b[0;34m\u001b[0m\u001b[0;34m\u001b[0m\u001b[0m\n\u001b[1;32m     10\u001b[0m \u001b[0;34m\u001b[0m\u001b[0m\n",
      "\u001b[0;31mTypeError\u001b[0m: 'list' object is not callable"
     ]
    }
   ],
   "source": [
    "import numpy as np\n",
    "\n",
    "import os\n",
    "import matplotlib.pyplot as plt\n",
    "import sys\n",
    "# Paths to the image and and masks\n",
    "root = os.path.abspath(\"\")\n",
    "img_path = os.join.path(root, 'data/threeD_train/250_051/images/250_051.png')\n",
    "masks_path = os.join.path('../data/threeD_train/250_051/masks/')\n",
    "\n",
    "# Make mask overlays transparent\n",
    "\n",
    "def transparent_masks(mask):\n",
    "    mask = np.ma.masked_where(mask == 0, mask)\n",
    "    return mask\n",
    "\n",
    "mit_pallete = plt.cm.jet.copy()\n",
    "mit_pallete.set_bad(color=\"white\", alpha=0)\n",
    "pallete = plt.cm.autumn.copy()\n",
    "pallete.set_bad(color=\"white\", alpha=0)\n",
    "\n",
    "image = plt.imread(img_path)\n",
    "fig = plt.figure(figsize=(10, 10))\n",
    "plt.imshow(image, cmap='gray')\n",
    "\n",
    "for mask_path in os.listdir(masks_path):\n",
    "    if 'mit' in mask_path:\n",
    "        color = mit_pallete\n",
    "    else:\n",
    "        color = pallete\n",
    "    mask_path = os.path.join(masks_path, mask_path)\n",
    "    mask = plt.imread(mask_path)\n",
    "    mask = transparent_masks(mask)\n",
    "    plt.imshow(mask, interpolation='none', cmap=color, alpha = 0.2)\n",
    "    plt.title('Blue : Mithochondira Mask \\n Red : Vesicles Mask') \n",
    "    \n",
    "# plt.savefig('image/sample_mask.png')\n",
    "plt.show()"
   ]
  },
  {
   "cell_type": "code",
   "execution_count": 6,
   "id": "a1f2b48c-4320-4762-9381-cc2666814b15",
   "metadata": {},
   "outputs": [
    {
     "data": {
      "text/plain": [
       "str"
      ]
     },
     "execution_count": 6,
     "metadata": {},
     "output_type": "execute_result"
    }
   ],
   "source": [
    "type(img_path)"
   ]
  },
  {
   "cell_type": "code",
   "execution_count": 11,
   "id": "def7e3f0-3f0a-486f-93af-054d145c4f76",
   "metadata": {},
   "outputs": [
    {
     "data": {
      "text/plain": [
       "'/home/parastooj/VesicleSegmentation'"
      ]
     },
     "execution_count": 11,
     "metadata": {},
     "output_type": "execute_result"
    }
   ],
   "source": [
    "root"
   ]
  },
  {
   "cell_type": "code",
   "execution_count": null,
   "id": "56b21c5d-8389-42b2-8eca-096a66c643f8",
   "metadata": {},
   "outputs": [],
   "source": []
  }
 ],
 "metadata": {
  "kernelspec": {
   "display_name": "Python 3 (ipykernel)",
   "language": "python",
   "name": "python3"
  },
  "language_info": {
   "codemirror_mode": {
    "name": "ipython",
    "version": 3
   },
   "file_extension": ".py",
   "mimetype": "text/x-python",
   "name": "python",
   "nbconvert_exporter": "python",
   "pygments_lexer": "ipython3",
   "version": "3.7.10"
  }
 },
 "nbformat": 4,
 "nbformat_minor": 5
}
